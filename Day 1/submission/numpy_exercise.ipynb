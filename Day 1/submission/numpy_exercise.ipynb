{
 "cells": [
  {
   "cell_type": "code",
   "execution_count": 1,
   "metadata": {},
   "outputs": [],
   "source": [
    "import numpy as np\n"
   ]
  },
  {
   "cell_type": "code",
   "execution_count": 2,
   "metadata": {},
   "outputs": [],
   "source": [
    "# create a 1D array\n",
    "x = np.array([0, 1, 2, 3, 4, 5, 6])"
   ]
  },
  {
   "cell_type": "code",
   "execution_count": 3,
   "metadata": {},
   "outputs": [
    {
     "data": {
      "text/plain": [
       "array([1, 2, 3, 4, 5, 6])"
      ]
     },
     "execution_count": 3,
     "metadata": {},
     "output_type": "execute_result"
    }
   ],
   "source": [
    "# find all non-zero elements in x\n",
    "def findNonZero(x):\n",
    "    a = x[x != 0]\n",
    "    return a\n",
    "findNonZero(x)"
   ]
  },
  {
   "cell_type": "code",
   "execution_count": 4,
   "metadata": {},
   "outputs": [
    {
     "name": "stdout",
     "output_type": "stream",
     "text": [
      "[[-0.6933261   0.42728827 -0.4544107  -0.29317706 -1.44537083]\n",
      " [-0.33231718 -0.53573666 -1.39326016  0.79634948 -1.88545178]\n",
      " [ 0.43463402 -2.4882367   0.24023996 -0.25921024 -1.46509855]\n",
      " [-1.64466033  1.26556106  1.2358654  -1.00952331  0.7633682 ]\n",
      " [-0.3079603  -0.58569177 -0.51834346 -1.00445401 -0.11022182]]\n",
      "[[1. 0. 0. 0. 0.]\n",
      " [0. 1. 0. 0. 0.]\n",
      " [0. 0. 1. 0. 0.]\n",
      " [0. 0. 0. 1. 0.]\n",
      " [0. 0. 0. 0. 1.]]\n"
     ]
    }
   ],
   "source": [
    "# create a 5x5 matrix A with random numbers\n",
    "A = np.random.randn(5, 5)\n",
    "\n",
    "# create a 5x5 identity matrix B\n",
    "B = np.eye(5)\n",
    "print(A)\n",
    "print(B)"
   ]
  },
  {
   "cell_type": "code",
   "execution_count": 5,
   "metadata": {},
   "outputs": [
    {
     "name": "stdout",
     "output_type": "stream",
     "text": [
      "[[-0.6933261  -0.33231718  0.43463402 -1.64466033 -0.3079603 ]\n",
      " [ 0.42728827 -0.53573666 -2.4882367   1.26556106 -0.58569177]\n",
      " [-0.4544107  -1.39326016  0.24023996  1.2358654  -0.51834346]\n",
      " [-0.29317706  0.79634948 -0.25921024 -1.00952331 -1.00445401]\n",
      " [-1.44537083 -1.88545178 -1.46509855  0.7633682  -0.11022182]]\n"
     ]
    }
   ],
   "source": [
    "# calculate the following equations\n",
    "addProduct = np.add(A,B)\n",
    "subtractProdcut = np.subtract(A,B)\n",
    "matrixProduct = np.dot(A,B) #(matrix product)\n",
    "# A' (transpose of A)\n",
    "A_T= np.transpose(A)#transpose of A\n",
    "\n",
    "print(A_T)"
   ]
  },
  {
   "cell_type": "code",
   "execution_count": 6,
   "metadata": {},
   "outputs": [
    {
     "name": "stdout",
     "output_type": "stream",
     "text": [
      "  MIN VALUE,          MAX VALUE,          SUM VALUE,            MEAN VALUE\n",
      "-1.644660329032599 0.4346340191194725 -2.5436298920629037 -0.5087259784125807\n",
      "-2.488236701766082 1.2655610590709927 -1.916815805352765 -0.383363161070553\n",
      "-1.3932601629875196 1.2358653958897738 -0.889908976861846 -0.1779817953723692\n",
      "-1.0095233075168701 0.7963494806625147 -1.7700151369079384 -0.3540030273815877\n",
      "-1.8854517800743513 0.7633681979218218 -4.142774781752477 -0.8285549563504955\n"
     ]
    }
   ],
   "source": [
    "# calculate the mean, sum, max, min value for each column in A\n",
    "A_min = A.min(axis= 0)\n",
    "A_max = A.max(axis = 0)\n",
    "A_sum = A.sum(axis = 0)\n",
    "A_mean = A.mean(axis = 0)\n",
    "A_analytic = [A_min, A_max, A_sum, A_mean]\n",
    "print (\"  MIN VALUE,          MAX VALUE,          SUM VALUE,            MEAN VALUE\")\n",
    "for w,x,y,z in zip(*A_analytic):\n",
    "  print(w,x, y, z)"
   ]
  },
  {
   "cell_type": "code",
   "execution_count": 7,
   "metadata": {},
   "outputs": [
    {
     "data": {
      "text/plain": [
       "[array([0.47815858, 0.77668675, 0.54180489, 0.58475703, 0.27781621]),\n",
       " array([0.57433023, 0.52013991, 0.29169833, 0.8750035 , 0.16058002]),\n",
       " array([0.77864363, 0.        , 0.72685766, 0.59380569, 0.27256081]),\n",
       " array([0.22472611, 1.        , 0.99208917, 0.39392463, 0.86621739]),\n",
       " array([0.58081882, 0.50683203, 0.52477341, 0.39527508, 0.63349574])]"
      ]
     },
     "execution_count": 7,
     "metadata": {},
     "output_type": "execute_result"
    }
   ],
   "source": [
    "# normalize A with its max value A_max and min value A_min\n",
    "# i.e., for any value x in A,\n",
    "# x = (x - A_min) / (A_max - A_min)\n",
    "\n",
    "def normalize(A):\n",
    "    min = np.min(A)\n",
    "    max = np.max(A)\n",
    "    range = max - min\n",
    "    return [(x-min)/range for x in A]\n",
    "ypp = A\n",
    "A_max = np.max(A)\n",
    "A_min = np.min(A)\n",
    "ypp = (ypp - A_min)/(A_max - A_min)\n",
    "    \n",
    "normalize_A = normalize(A)\n",
    "normalize_A\n",
    "\n",
    "\n"
   ]
  },
  {
   "cell_type": "code",
   "execution_count": 8,
   "metadata": {},
   "outputs": [
    {
     "data": {
      "text/plain": [
       "array([2., 3.])"
      ]
     },
     "execution_count": 8,
     "metadata": {},
     "output_type": "execute_result"
    }
   ],
   "source": [
    "# advanced exercise\n",
    "# solve the system of equations:\n",
    "#3 * x0 + x1 = 9\n",
    "#x0 + 2 * x1 = 8\n",
    "\n",
    "A = np.array([[3, 1], [1, 2]])\n",
    "b = np.array([9, 8])\n",
    "x = np.linalg.solve(A, b)\n",
    "Ax = b\n",
    "inv_A = np.linalg.inv(A)\n",
    "x"
   ]
  },
  {
   "cell_type": "code",
   "execution_count": 9,
   "metadata": {},
   "outputs": [
    {
     "name": "stdout",
     "output_type": "stream",
     "text": [
      "[2. 3.]\n",
      "[2. 3.]\n"
     ]
    }
   ],
   "source": [
    "# compare x with the product of inverse A and b\n",
    "\n",
    "product = np.dot(inv_A,b)\n",
    "print(x)\n",
    "print(product)\n",
    "\n",
    "#product of inverse A and b has the same matrix with x"
   ]
  }
 ],
 "metadata": {
  "kernelspec": {
   "display_name": "Python 3",
   "language": "python",
   "name": "python3"
  },
  "language_info": {
   "codemirror_mode": {
    "name": "ipython",
    "version": 3
   },
   "file_extension": ".py",
   "mimetype": "text/x-python",
   "name": "python",
   "nbconvert_exporter": "python",
   "pygments_lexer": "ipython3",
   "version": "3.7.3"
  }
 },
 "nbformat": 4,
 "nbformat_minor": 2
}
