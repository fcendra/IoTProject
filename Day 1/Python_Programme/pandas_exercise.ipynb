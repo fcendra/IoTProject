{
 "cells": [
  {
   "cell_type": "code",
   "execution_count": null,
   "metadata": {},
   "outputs": [],
   "source": [
    "# import libraries\n",
    "import pandas as pd"
   ]
  },
  {
   "cell_type": "code",
   "execution_count": null,
   "metadata": {},
   "outputs": [],
   "source": [
    "# read a CSV format text file\n",
    "# the data is sorted by utc_time\n",
    "df = pd.read_csv('beijing_air_quality_data.csv',\n",
    "                 parse_dates=['utc_time'])"
   ]
  },
  {
   "cell_type": "code",
   "execution_count": null,
   "metadata": {},
   "outputs": [],
   "source": [
    "# for temperature and humidity\n",
    "# calculate its mean, standard deviation\n"
   ]
  },
  {
   "cell_type": "code",
   "execution_count": null,
   "metadata": {},
   "outputs": [],
   "source": [
    "# how many unique site_id?\n",
    "# Hint: check pd.unique method\n"
   ]
  },
  {
   "cell_type": "code",
   "execution_count": null,
   "metadata": {},
   "outputs": [],
   "source": [
    "# what is the range of utc_time?\n",
    "# Hint: you can call min() and max() for the utc_time column\n"
   ]
  },
  {
   "cell_type": "code",
   "execution_count": null,
   "metadata": {},
   "outputs": [],
   "source": [
    "# for pm25, fill NAs with mean value\n"
   ]
  },
  {
   "cell_type": "code",
   "execution_count": null,
   "metadata": {},
   "outputs": [],
   "source": [
    "# select data for a station where site_id equals to dongsi_aq\n",
    "dongsi_df = df[df['site_id'] == 'dongsi_aq']\n",
    "\n",
    "dongsi_df_pm25 = dongsi_df['pm25']\n",
    "\n",
    "# calculate the mean value of pm25 at this station\n",
    "\n",
    "# calculate how many data points when pm25 >= 50 at this station\n",
    "# Hint: check count() method\n"
   ]
  },
  {
   "cell_type": "code",
   "execution_count": null,
   "metadata": {},
   "outputs": [],
   "source": [
    "# how many NAs for pm25 values at this station\n",
    "# Hint: check isnull() method\n"
   ]
  }
 ],
 "metadata": {
  "kernelspec": {
   "display_name": "Python 3",
   "language": "python",
   "name": "python3"
  },
  "language_info": {
   "codemirror_mode": {
    "name": "ipython",
    "version": 3
   },
   "file_extension": ".py",
   "mimetype": "text/x-python",
   "name": "python",
   "nbconvert_exporter": "python",
   "pygments_lexer": "ipython3",
   "version": "3.6.4"
  }
 },
 "nbformat": 4,
 "nbformat_minor": 2
}
